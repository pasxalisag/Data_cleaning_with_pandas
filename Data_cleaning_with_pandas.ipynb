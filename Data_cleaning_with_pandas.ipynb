{
 "cells": [
  {
   "cell_type": "code",
   "execution_count": 1,
   "id": "bd9db722-b0dc-4705-91ab-c4a67241b859",
   "metadata": {},
   "outputs": [],
   "source": [
    "import pandas as pd"
   ]
  },
  {
   "cell_type": "code",
   "execution_count": 2,
   "id": "1a84e138-5ca3-48a1-ab93-84ad207f5ec9",
   "metadata": {},
   "outputs": [],
   "source": [
    "# Read the dataset"
   ]
  },
  {
   "cell_type": "code",
   "execution_count": 3,
   "id": "ef26fe86-96ea-498d-92dd-ecf9b6e4d09f",
   "metadata": {},
   "outputs": [],
   "source": [
    "df = pd.read_csv('Data_cleaning_with_pandas.csv')"
   ]
  },
  {
   "cell_type": "code",
   "execution_count": 4,
   "id": "b63b9f7d-2be8-4e71-af2b-95b5f7b3a978",
   "metadata": {},
   "outputs": [],
   "source": [
    "# Check some basic information, to get a glance at the data"
   ]
  },
  {
   "cell_type": "code",
   "execution_count": 5,
   "id": "02cf411a-168f-4539-8428-620957c33475",
   "metadata": {},
   "outputs": [
    {
     "data": {
      "text/html": [
       "<div>\n",
       "<style scoped>\n",
       "    .dataframe tbody tr th:only-of-type {\n",
       "        vertical-align: middle;\n",
       "    }\n",
       "\n",
       "    .dataframe tbody tr th {\n",
       "        vertical-align: top;\n",
       "    }\n",
       "\n",
       "    .dataframe thead th {\n",
       "        text-align: right;\n",
       "    }\n",
       "</style>\n",
       "<table border=\"1\" class=\"dataframe\">\n",
       "  <thead>\n",
       "    <tr style=\"text-align: right;\">\n",
       "      <th></th>\n",
       "      <th>Transaction ID</th>\n",
       "      <th>Item</th>\n",
       "      <th>Quantity</th>\n",
       "      <th>Price Per Unit</th>\n",
       "      <th>Total Spent</th>\n",
       "      <th>Payment Method</th>\n",
       "      <th>Location</th>\n",
       "      <th>Transaction Date</th>\n",
       "    </tr>\n",
       "  </thead>\n",
       "  <tbody>\n",
       "    <tr>\n",
       "      <th>0</th>\n",
       "      <td>TXN_1961373</td>\n",
       "      <td>Coffee</td>\n",
       "      <td>2</td>\n",
       "      <td>2.0</td>\n",
       "      <td>4.0</td>\n",
       "      <td>Credit Card</td>\n",
       "      <td>Takeaway</td>\n",
       "      <td>2023-09-08</td>\n",
       "    </tr>\n",
       "    <tr>\n",
       "      <th>1</th>\n",
       "      <td>TXN_4977031</td>\n",
       "      <td>Cake</td>\n",
       "      <td>4</td>\n",
       "      <td>3.0</td>\n",
       "      <td>12.0</td>\n",
       "      <td>Cash</td>\n",
       "      <td>In-store</td>\n",
       "      <td>2023-05-16</td>\n",
       "    </tr>\n",
       "    <tr>\n",
       "      <th>2</th>\n",
       "      <td>TXN_4271903</td>\n",
       "      <td>Cookie</td>\n",
       "      <td>4</td>\n",
       "      <td>1.0</td>\n",
       "      <td>ERROR</td>\n",
       "      <td>Credit Card</td>\n",
       "      <td>In-store</td>\n",
       "      <td>2023-07-19</td>\n",
       "    </tr>\n",
       "    <tr>\n",
       "      <th>3</th>\n",
       "      <td>TXN_7034554</td>\n",
       "      <td>Salad</td>\n",
       "      <td>2</td>\n",
       "      <td>5.0</td>\n",
       "      <td>10.0</td>\n",
       "      <td>UNKNOWN</td>\n",
       "      <td>UNKNOWN</td>\n",
       "      <td>2023-04-27</td>\n",
       "    </tr>\n",
       "    <tr>\n",
       "      <th>4</th>\n",
       "      <td>TXN_3160411</td>\n",
       "      <td>Coffee</td>\n",
       "      <td>2</td>\n",
       "      <td>2.0</td>\n",
       "      <td>4.0</td>\n",
       "      <td>Digital Wallet</td>\n",
       "      <td>In-store</td>\n",
       "      <td>2023-06-11</td>\n",
       "    </tr>\n",
       "  </tbody>\n",
       "</table>\n",
       "</div>"
      ],
      "text/plain": [
       "  Transaction ID    Item Quantity Price Per Unit Total Spent  Payment Method  \\\n",
       "0    TXN_1961373  Coffee        2            2.0         4.0     Credit Card   \n",
       "1    TXN_4977031    Cake        4            3.0        12.0            Cash   \n",
       "2    TXN_4271903  Cookie        4            1.0       ERROR     Credit Card   \n",
       "3    TXN_7034554   Salad        2            5.0        10.0         UNKNOWN   \n",
       "4    TXN_3160411  Coffee        2            2.0         4.0  Digital Wallet   \n",
       "\n",
       "   Location Transaction Date  \n",
       "0  Takeaway       2023-09-08  \n",
       "1  In-store       2023-05-16  \n",
       "2  In-store       2023-07-19  \n",
       "3   UNKNOWN       2023-04-27  \n",
       "4  In-store       2023-06-11  "
      ]
     },
     "execution_count": 5,
     "metadata": {},
     "output_type": "execute_result"
    }
   ],
   "source": [
    "df.head()"
   ]
  },
  {
   "cell_type": "code",
   "execution_count": 6,
   "id": "7a6b1ecf-5c91-4920-92ae-ec17dfe70be3",
   "metadata": {},
   "outputs": [
    {
     "name": "stdout",
     "output_type": "stream",
     "text": [
      "<class 'pandas.core.frame.DataFrame'>\n",
      "RangeIndex: 10000 entries, 0 to 9999\n",
      "Data columns (total 8 columns):\n",
      " #   Column            Non-Null Count  Dtype \n",
      "---  ------            --------------  ----- \n",
      " 0   Transaction ID    10000 non-null  object\n",
      " 1   Item              9667 non-null   object\n",
      " 2   Quantity          9862 non-null   object\n",
      " 3   Price Per Unit    9821 non-null   object\n",
      " 4   Total Spent       9827 non-null   object\n",
      " 5   Payment Method    7421 non-null   object\n",
      " 6   Location          6735 non-null   object\n",
      " 7   Transaction Date  9841 non-null   object\n",
      "dtypes: object(8)\n",
      "memory usage: 625.1+ KB\n"
     ]
    }
   ],
   "source": [
    "df.info()"
   ]
  },
  {
   "cell_type": "code",
   "execution_count": 7,
   "id": "90e8b5ee-cb0a-4432-9530-de874e2c6e4f",
   "metadata": {},
   "outputs": [
    {
     "data": {
      "text/html": [
       "<div>\n",
       "<style scoped>\n",
       "    .dataframe tbody tr th:only-of-type {\n",
       "        vertical-align: middle;\n",
       "    }\n",
       "\n",
       "    .dataframe tbody tr th {\n",
       "        vertical-align: top;\n",
       "    }\n",
       "\n",
       "    .dataframe thead th {\n",
       "        text-align: right;\n",
       "    }\n",
       "</style>\n",
       "<table border=\"1\" class=\"dataframe\">\n",
       "  <thead>\n",
       "    <tr style=\"text-align: right;\">\n",
       "      <th></th>\n",
       "      <th>Transaction ID</th>\n",
       "      <th>Item</th>\n",
       "      <th>Quantity</th>\n",
       "      <th>Price Per Unit</th>\n",
       "      <th>Total Spent</th>\n",
       "      <th>Payment Method</th>\n",
       "      <th>Location</th>\n",
       "      <th>Transaction Date</th>\n",
       "    </tr>\n",
       "  </thead>\n",
       "  <tbody>\n",
       "    <tr>\n",
       "      <th>count</th>\n",
       "      <td>10000</td>\n",
       "      <td>9667</td>\n",
       "      <td>9862</td>\n",
       "      <td>9821</td>\n",
       "      <td>9827</td>\n",
       "      <td>7421</td>\n",
       "      <td>6735</td>\n",
       "      <td>9841</td>\n",
       "    </tr>\n",
       "    <tr>\n",
       "      <th>unique</th>\n",
       "      <td>10000</td>\n",
       "      <td>10</td>\n",
       "      <td>7</td>\n",
       "      <td>8</td>\n",
       "      <td>19</td>\n",
       "      <td>5</td>\n",
       "      <td>4</td>\n",
       "      <td>367</td>\n",
       "    </tr>\n",
       "    <tr>\n",
       "      <th>top</th>\n",
       "      <td>TXN_1961373</td>\n",
       "      <td>Juice</td>\n",
       "      <td>5</td>\n",
       "      <td>3.0</td>\n",
       "      <td>6.0</td>\n",
       "      <td>Digital Wallet</td>\n",
       "      <td>Takeaway</td>\n",
       "      <td>UNKNOWN</td>\n",
       "    </tr>\n",
       "    <tr>\n",
       "      <th>freq</th>\n",
       "      <td>1</td>\n",
       "      <td>1171</td>\n",
       "      <td>2013</td>\n",
       "      <td>2429</td>\n",
       "      <td>979</td>\n",
       "      <td>2291</td>\n",
       "      <td>3022</td>\n",
       "      <td>159</td>\n",
       "    </tr>\n",
       "  </tbody>\n",
       "</table>\n",
       "</div>"
      ],
      "text/plain": [
       "       Transaction ID   Item Quantity Price Per Unit Total Spent  \\\n",
       "count           10000   9667     9862           9821        9827   \n",
       "unique          10000     10        7              8          19   \n",
       "top       TXN_1961373  Juice        5            3.0         6.0   \n",
       "freq                1   1171     2013           2429         979   \n",
       "\n",
       "        Payment Method  Location Transaction Date  \n",
       "count             7421      6735             9841  \n",
       "unique               5         4              367  \n",
       "top     Digital Wallet  Takeaway          UNKNOWN  \n",
       "freq              2291      3022              159  "
      ]
     },
     "execution_count": 7,
     "metadata": {},
     "output_type": "execute_result"
    }
   ],
   "source": [
    "df.describe()"
   ]
  },
  {
   "cell_type": "code",
   "execution_count": 8,
   "id": "f9b43fe7-3f65-4be5-9a07-d20491d18a8e",
   "metadata": {},
   "outputs": [],
   "source": [
    "# Search for the null data"
   ]
  },
  {
   "cell_type": "code",
   "execution_count": 9,
   "id": "a13e3dce-d9fd-4a64-88f4-e7b6d986350d",
   "metadata": {},
   "outputs": [
    {
     "data": {
      "text/plain": [
       "Transaction ID         0\n",
       "Item                 333\n",
       "Quantity             138\n",
       "Price Per Unit       179\n",
       "Total Spent          173\n",
       "Payment Method      2579\n",
       "Location            3265\n",
       "Transaction Date     159\n",
       "dtype: int64"
      ]
     },
     "execution_count": 9,
     "metadata": {},
     "output_type": "execute_result"
    }
   ],
   "source": [
    "df.isnull().sum()"
   ]
  },
  {
   "cell_type": "code",
   "execution_count": 10,
   "id": "70d6fc81-4174-4835-a090-a4ad0748819a",
   "metadata": {},
   "outputs": [],
   "source": [
    "# Starting to change the data types, while cleaning the dataset"
   ]
  },
  {
   "cell_type": "code",
   "execution_count": 11,
   "id": "f3c66caf-dcb1-4f10-84e0-316c30646678",
   "metadata": {},
   "outputs": [],
   "source": [
    "df['Transaction ID'] = df['Transaction ID'].astype('string')"
   ]
  },
  {
   "cell_type": "code",
   "execution_count": 12,
   "id": "a4afb4c7-629d-4717-8144-96ae30e18104",
   "metadata": {},
   "outputs": [],
   "source": [
    "# Since 'Item' is not an arithmetic column, I will not erase the mistakes; I will simply leave them as 'Missing Value'"
   ]
  },
  {
   "cell_type": "code",
   "execution_count": 13,
   "id": "e64fffe6-adfd-4e05-bbe7-e1b42d0dd5e7",
   "metadata": {},
   "outputs": [],
   "source": [
    "df.loc[:, 'Item'] = df['Item'].replace(['ERROR', 'UNKNOWN', 'nan'], pd.NA)"
   ]
  },
  {
   "cell_type": "code",
   "execution_count": 14,
   "id": "9b3cd320-f35e-424e-9463-b7096093f969",
   "metadata": {},
   "outputs": [],
   "source": [
    "df.loc[:, 'Item'] = df['Item'].replace({float('nan'): pd.NA})"
   ]
  },
  {
   "cell_type": "code",
   "execution_count": 15,
   "id": "cebda94e-79f5-4aa5-ad39-958aab149218",
   "metadata": {},
   "outputs": [],
   "source": [
    "df.loc[:, 'Item'] = df['Item'].fillna('Missing Value')"
   ]
  },
  {
   "cell_type": "code",
   "execution_count": 16,
   "id": "7ee1428b-37e7-4510-929a-e1d69bdd06e4",
   "metadata": {},
   "outputs": [
    {
     "name": "stdout",
     "output_type": "stream",
     "text": [
      "['Coffee' 'Cake' 'Cookie' 'Salad' 'Smoothie' 'Missing Value' 'Sandwich'\n",
      " 'Juice' 'Tea']\n"
     ]
    }
   ],
   "source": [
    "print(df['Item'].unique())"
   ]
  },
  {
   "cell_type": "code",
   "execution_count": 17,
   "id": "d01fc507-fb43-4ad9-be34-1acea2c3c219",
   "metadata": {},
   "outputs": [],
   "source": [
    "df['Item'] = df['Item'].astype('string')"
   ]
  },
  {
   "cell_type": "code",
   "execution_count": 18,
   "id": "db3e5d39-d9e2-4efe-bc20-ad3d6f832abf",
   "metadata": {},
   "outputs": [
    {
     "name": "stdout",
     "output_type": "stream",
     "text": [
      "<class 'pandas.core.frame.DataFrame'>\n",
      "RangeIndex: 10000 entries, 0 to 9999\n",
      "Data columns (total 8 columns):\n",
      " #   Column            Non-Null Count  Dtype \n",
      "---  ------            --------------  ----- \n",
      " 0   Transaction ID    10000 non-null  string\n",
      " 1   Item              10000 non-null  string\n",
      " 2   Quantity          9862 non-null   object\n",
      " 3   Price Per Unit    9821 non-null   object\n",
      " 4   Total Spent       9827 non-null   object\n",
      " 5   Payment Method    7421 non-null   object\n",
      " 6   Location          6735 non-null   object\n",
      " 7   Transaction Date  9841 non-null   object\n",
      "dtypes: object(6), string(2)\n",
      "memory usage: 625.1+ KB\n"
     ]
    },
    {
     "data": {
      "text/plain": [
       "Transaction ID         0\n",
       "Item                   0\n",
       "Quantity             138\n",
       "Price Per Unit       179\n",
       "Total Spent          173\n",
       "Payment Method      2579\n",
       "Location            3265\n",
       "Transaction Date     159\n",
       "dtype: int64"
      ]
     },
     "execution_count": 18,
     "metadata": {},
     "output_type": "execute_result"
    }
   ],
   "source": [
    "df.info()\n",
    "df.isnull().sum()"
   ]
  },
  {
   "cell_type": "code",
   "execution_count": 19,
   "id": "dd4a0b15-4cdf-413a-aa4a-3b3ab681df03",
   "metadata": {},
   "outputs": [],
   "source": [
    "# Since 'Quantity is an arithmetic column, I will get rid of the lines that have mistakes; I want these columns as clean as possible.\n",
    "# I will work the same way for the rest of the arithmetic columns (Price Per Unit, Total Spent)."
   ]
  },
  {
   "cell_type": "code",
   "execution_count": 20,
   "id": "cf291d62-dfa2-4526-8b53-ba682bfb39e0",
   "metadata": {},
   "outputs": [],
   "source": [
    "df['Quantity'] = df['Quantity'].replace(['ERROR', 'UNKNOWN', 'nan'], pd.NA)"
   ]
  },
  {
   "cell_type": "code",
   "execution_count": 21,
   "id": "183696b5-2bbd-4984-9ade-24d476250f24",
   "metadata": {},
   "outputs": [],
   "source": [
    "df['Quantity'] = pd.to_numeric(df['Quantity'], errors='coerce')"
   ]
  },
  {
   "cell_type": "code",
   "execution_count": 22,
   "id": "7f3c0736-13f6-470d-b31b-d7f614f20659",
   "metadata": {},
   "outputs": [],
   "source": [
    "df = df.dropna(subset=['Quantity'])"
   ]
  },
  {
   "cell_type": "code",
   "execution_count": 23,
   "id": "7d1cec23-5f4a-467a-b354-dc2c81ccb46d",
   "metadata": {},
   "outputs": [],
   "source": [
    "df.loc[:, 'Quantity'] = df['Quantity'].astype(int)"
   ]
  },
  {
   "cell_type": "code",
   "execution_count": 24,
   "id": "ae1700a6-3c8b-4525-a411-582946812ec0",
   "metadata": {},
   "outputs": [
    {
     "name": "stdout",
     "output_type": "stream",
     "text": [
      "<class 'pandas.core.frame.DataFrame'>\n",
      "Index: 9521 entries, 0 to 9999\n",
      "Data columns (total 8 columns):\n",
      " #   Column            Non-Null Count  Dtype  \n",
      "---  ------            --------------  -----  \n",
      " 0   Transaction ID    9521 non-null   string \n",
      " 1   Item              9521 non-null   string \n",
      " 2   Quantity          9521 non-null   float64\n",
      " 3   Price Per Unit    9349 non-null   object \n",
      " 4   Total Spent       9353 non-null   object \n",
      " 5   Payment Method    7074 non-null   object \n",
      " 6   Location          6412 non-null   object \n",
      " 7   Transaction Date  9371 non-null   object \n",
      "dtypes: float64(1), object(5), string(2)\n",
      "memory usage: 669.4+ KB\n"
     ]
    },
    {
     "data": {
      "text/plain": [
       "Transaction ID         0\n",
       "Item                   0\n",
       "Quantity               0\n",
       "Price Per Unit       172\n",
       "Total Spent          168\n",
       "Payment Method      2447\n",
       "Location            3109\n",
       "Transaction Date     150\n",
       "dtype: int64"
      ]
     },
     "execution_count": 24,
     "metadata": {},
     "output_type": "execute_result"
    }
   ],
   "source": [
    "df.info()\n",
    "df.isnull().sum()"
   ]
  },
  {
   "cell_type": "code",
   "execution_count": 25,
   "id": "6d0f583a-8b27-4c02-8291-c8365831ef62",
   "metadata": {},
   "outputs": [],
   "source": [
    "df.loc[:, 'Price Per Unit'] = df['Price Per Unit'].replace(['ERROR', 'UNKNOWN', 'nan', '', None], pd.NA)"
   ]
  },
  {
   "cell_type": "code",
   "execution_count": 26,
   "id": "e4c3d8de-98c2-492e-8601-4990b9cfca40",
   "metadata": {},
   "outputs": [],
   "source": [
    "df.loc[:, 'Price Per Unit'] = pd.to_numeric(df['Price Per Unit'], errors='coerce')"
   ]
  },
  {
   "cell_type": "code",
   "execution_count": 27,
   "id": "0b002874-6640-4367-932e-c640dd1629bb",
   "metadata": {},
   "outputs": [],
   "source": [
    "df = df.dropna(subset=['Price Per Unit'])"
   ]
  },
  {
   "cell_type": "code",
   "execution_count": 28,
   "id": "da7eb5d8-a6e3-4cba-8708-74ee51521657",
   "metadata": {},
   "outputs": [],
   "source": [
    "df.loc[:, 'Price Per Unit'] = df['Price Per Unit'].astype(float)"
   ]
  },
  {
   "cell_type": "code",
   "execution_count": 29,
   "id": "c84edd25-5ac6-4fad-96ac-ef1b597d1df3",
   "metadata": {},
   "outputs": [],
   "source": [
    "df['Price Per Unit'] = df['Price Per Unit'].astype(float)"
   ]
  },
  {
   "cell_type": "code",
   "execution_count": 30,
   "id": "6a205003-6bef-4449-8452-bf72ce107551",
   "metadata": {},
   "outputs": [
    {
     "name": "stdout",
     "output_type": "stream",
     "text": [
      "<class 'pandas.core.frame.DataFrame'>\n",
      "Index: 9006 entries, 0 to 9999\n",
      "Data columns (total 8 columns):\n",
      " #   Column            Non-Null Count  Dtype  \n",
      "---  ------            --------------  -----  \n",
      " 0   Transaction ID    9006 non-null   string \n",
      " 1   Item              9006 non-null   string \n",
      " 2   Quantity          9006 non-null   float64\n",
      " 3   Price Per Unit    9006 non-null   float64\n",
      " 4   Total Spent       8843 non-null   object \n",
      " 5   Payment Method    6696 non-null   object \n",
      " 6   Location          6065 non-null   object \n",
      " 7   Transaction Date  8869 non-null   object \n",
      "dtypes: float64(2), object(4), string(2)\n",
      "memory usage: 633.2+ KB\n"
     ]
    },
    {
     "data": {
      "text/plain": [
       "Transaction ID         0\n",
       "Item                   0\n",
       "Quantity               0\n",
       "Price Per Unit         0\n",
       "Total Spent          163\n",
       "Payment Method      2310\n",
       "Location            2941\n",
       "Transaction Date     137\n",
       "dtype: int64"
      ]
     },
     "execution_count": 30,
     "metadata": {},
     "output_type": "execute_result"
    }
   ],
   "source": [
    "df.info()\n",
    "df.isnull().sum()"
   ]
  },
  {
   "cell_type": "code",
   "execution_count": 31,
   "id": "08c84ad0-0928-433e-a1e1-c9cea9b2c009",
   "metadata": {},
   "outputs": [],
   "source": [
    "df.loc[:, 'Total Spent'] = df['Total Spent'].replace(['ERROR', 'UNKNOWN', 'nan', '', None], pd.NA)"
   ]
  },
  {
   "cell_type": "code",
   "execution_count": 32,
   "id": "f5f18802-929b-4cbd-803d-25ee9f0e784e",
   "metadata": {},
   "outputs": [
    {
     "data": {
      "text/plain": [
       "array(['4.0', '12.0', <NA>, '10.0', '20.0', '9.0', '16.0', '15.0', '25.0',\n",
       "       '8.0', '5.0', '3.0', '6.0', '2.0', '1.0', '7.5', '1.5', '4.5'],\n",
       "      dtype=object)"
      ]
     },
     "execution_count": 32,
     "metadata": {},
     "output_type": "execute_result"
    }
   ],
   "source": [
    "df['Total Spent'].unique()"
   ]
  },
  {
   "cell_type": "code",
   "execution_count": 33,
   "id": "db9c786a-3d5b-4d5a-bf99-78c857b26b95",
   "metadata": {},
   "outputs": [],
   "source": [
    "df.loc[:, 'Total Spent'] = pd.to_numeric(df['Total Spent'], errors='coerce')"
   ]
  },
  {
   "cell_type": "code",
   "execution_count": 34,
   "id": "07b9a83e-c16f-43ed-90f6-5943ded29db2",
   "metadata": {},
   "outputs": [],
   "source": [
    "df = df.dropna(subset=['Total Spent'])"
   ]
  },
  {
   "cell_type": "code",
   "execution_count": 35,
   "id": "36244d5d-a00d-453d-9a76-c05e8c58db5c",
   "metadata": {},
   "outputs": [],
   "source": [
    "df['Total Spent'] = df['Total Spent'].astype(float)"
   ]
  },
  {
   "cell_type": "code",
   "execution_count": 36,
   "id": "870a2301-67a1-4044-9bc4-11e81f7674c6",
   "metadata": {},
   "outputs": [
    {
     "name": "stdout",
     "output_type": "stream",
     "text": [
      "<class 'pandas.core.frame.DataFrame'>\n",
      "Index: 8544 entries, 0 to 9999\n",
      "Data columns (total 8 columns):\n",
      " #   Column            Non-Null Count  Dtype  \n",
      "---  ------            --------------  -----  \n",
      " 0   Transaction ID    8544 non-null   string \n",
      " 1   Item              8544 non-null   string \n",
      " 2   Quantity          8544 non-null   float64\n",
      " 3   Price Per Unit    8544 non-null   float64\n",
      " 4   Total Spent       8544 non-null   float64\n",
      " 5   Payment Method    6354 non-null   object \n",
      " 6   Location          5762 non-null   object \n",
      " 7   Transaction Date  8415 non-null   object \n",
      "dtypes: float64(3), object(3), string(2)\n",
      "memory usage: 600.8+ KB\n"
     ]
    },
    {
     "data": {
      "text/plain": [
       "Transaction ID         0\n",
       "Item                   0\n",
       "Quantity               0\n",
       "Price Per Unit         0\n",
       "Total Spent            0\n",
       "Payment Method      2190\n",
       "Location            2782\n",
       "Transaction Date     129\n",
       "dtype: int64"
      ]
     },
     "execution_count": 36,
     "metadata": {},
     "output_type": "execute_result"
    }
   ],
   "source": [
    "df.info()\n",
    "df.isnull().sum()"
   ]
  },
  {
   "cell_type": "code",
   "execution_count": 37,
   "id": "c826169a-9263-4eb9-9584-64983722ffad",
   "metadata": {},
   "outputs": [],
   "source": [
    "# Again, non arithmetic columns, so I leave 'Missing Value' where there were mistakes or null."
   ]
  },
  {
   "cell_type": "code",
   "execution_count": 38,
   "id": "822440d6-998a-4f1b-bc74-c29e0cb6b808",
   "metadata": {},
   "outputs": [],
   "source": [
    "df['Payment Method'] = df['Payment Method'].replace(['ERROR', 'UNKNOWN', 'nan', pd.NA], 'Missing Value')"
   ]
  },
  {
   "cell_type": "code",
   "execution_count": 39,
   "id": "d9f05967-a10f-4295-85c5-18ce33f4ead7",
   "metadata": {},
   "outputs": [],
   "source": [
    "df['Payment Method'] = df['Payment Method'].fillna('Missing Value')"
   ]
  },
  {
   "cell_type": "code",
   "execution_count": 40,
   "id": "0f2292a3-41b9-4d68-92fa-e4de2b21c9a0",
   "metadata": {},
   "outputs": [],
   "source": [
    "df['Payment Method'] = df['Payment Method'].astype('string')"
   ]
  },
  {
   "cell_type": "code",
   "execution_count": 41,
   "id": "25575884-b988-417c-9d4e-91c2cb488dd5",
   "metadata": {},
   "outputs": [
    {
     "name": "stdout",
     "output_type": "stream",
     "text": [
      "<class 'pandas.core.frame.DataFrame'>\n",
      "Index: 8544 entries, 0 to 9999\n",
      "Data columns (total 8 columns):\n",
      " #   Column            Non-Null Count  Dtype  \n",
      "---  ------            --------------  -----  \n",
      " 0   Transaction ID    8544 non-null   string \n",
      " 1   Item              8544 non-null   string \n",
      " 2   Quantity          8544 non-null   float64\n",
      " 3   Price Per Unit    8544 non-null   float64\n",
      " 4   Total Spent       8544 non-null   float64\n",
      " 5   Payment Method    8544 non-null   string \n",
      " 6   Location          5762 non-null   object \n",
      " 7   Transaction Date  8415 non-null   object \n",
      "dtypes: float64(3), object(2), string(3)\n",
      "memory usage: 600.8+ KB\n"
     ]
    },
    {
     "data": {
      "text/plain": [
       "Transaction ID         0\n",
       "Item                   0\n",
       "Quantity               0\n",
       "Price Per Unit         0\n",
       "Total Spent            0\n",
       "Payment Method         0\n",
       "Location            2782\n",
       "Transaction Date     129\n",
       "dtype: int64"
      ]
     },
     "execution_count": 41,
     "metadata": {},
     "output_type": "execute_result"
    }
   ],
   "source": [
    "df.info()\n",
    "df.isnull().sum()"
   ]
  },
  {
   "cell_type": "code",
   "execution_count": 42,
   "id": "d443c2df-b525-471f-859a-2b7fb648cdf9",
   "metadata": {},
   "outputs": [],
   "source": [
    "df['Location'] = df['Location'].replace(['ERROR', 'UNKNOWN', 'nan', pd.NA], 'Missing Value')"
   ]
  },
  {
   "cell_type": "code",
   "execution_count": 43,
   "id": "0f26e5d2-fd69-481d-85cf-a7f0be84fd2d",
   "metadata": {},
   "outputs": [],
   "source": [
    "df['Location'] = df['Location'].astype('string')"
   ]
  },
  {
   "cell_type": "code",
   "execution_count": 44,
   "id": "ec4e8fed-6359-41e0-a1ec-6a162b73c8a5",
   "metadata": {},
   "outputs": [
    {
     "name": "stdout",
     "output_type": "stream",
     "text": [
      "<class 'pandas.core.frame.DataFrame'>\n",
      "Index: 8544 entries, 0 to 9999\n",
      "Data columns (total 8 columns):\n",
      " #   Column            Non-Null Count  Dtype  \n",
      "---  ------            --------------  -----  \n",
      " 0   Transaction ID    8544 non-null   string \n",
      " 1   Item              8544 non-null   string \n",
      " 2   Quantity          8544 non-null   float64\n",
      " 3   Price Per Unit    8544 non-null   float64\n",
      " 4   Total Spent       8544 non-null   float64\n",
      " 5   Payment Method    8544 non-null   string \n",
      " 6   Location          8544 non-null   string \n",
      " 7   Transaction Date  8415 non-null   object \n",
      "dtypes: float64(3), object(1), string(4)\n",
      "memory usage: 600.8+ KB\n"
     ]
    },
    {
     "data": {
      "text/plain": [
       "Transaction ID        0\n",
       "Item                  0\n",
       "Quantity              0\n",
       "Price Per Unit        0\n",
       "Total Spent           0\n",
       "Payment Method        0\n",
       "Location              0\n",
       "Transaction Date    129\n",
       "dtype: int64"
      ]
     },
     "execution_count": 44,
     "metadata": {},
     "output_type": "execute_result"
    }
   ],
   "source": [
    "df.info()\n",
    "df.isnull().sum()"
   ]
  },
  {
   "cell_type": "code",
   "execution_count": 45,
   "id": "24b44050-629c-4b6a-be9e-a9af075b0bcd",
   "metadata": {},
   "outputs": [],
   "source": [
    "# Here there is a date column. So, besides altering the dtype, I will also erase the lines with mistakes, because I want it \n",
    "# as clean as possible."
   ]
  },
  {
   "cell_type": "code",
   "execution_count": 46,
   "id": "b3e1cf74-be13-4d10-af08-8c8238555741",
   "metadata": {},
   "outputs": [],
   "source": [
    "df['Transaction Date'] = df['Transaction Date'].replace(['', 'n/a', 'N/A'], pd.NA)"
   ]
  },
  {
   "cell_type": "code",
   "execution_count": 47,
   "id": "a0116e40-9631-499c-a10e-935efdae977b",
   "metadata": {},
   "outputs": [],
   "source": [
    "df['Transaction Date'] = pd.to_datetime(df['Transaction Date'], format='%Y-%m-%d', errors='coerce')"
   ]
  },
  {
   "cell_type": "code",
   "execution_count": 48,
   "id": "2b0ffc91-17ee-493f-85d3-44976f3e5304",
   "metadata": {},
   "outputs": [],
   "source": [
    "df = df.dropna(subset=['Transaction Date'])"
   ]
  },
  {
   "cell_type": "code",
   "execution_count": 49,
   "id": "a1af64ed-d4c5-4bf3-941e-8599f2824095",
   "metadata": {},
   "outputs": [
    {
     "name": "stdout",
     "output_type": "stream",
     "text": [
      "<class 'pandas.core.frame.DataFrame'>\n",
      "Index: 8159 entries, 0 to 9999\n",
      "Data columns (total 8 columns):\n",
      " #   Column            Non-Null Count  Dtype         \n",
      "---  ------            --------------  -----         \n",
      " 0   Transaction ID    8159 non-null   string        \n",
      " 1   Item              8159 non-null   string        \n",
      " 2   Quantity          8159 non-null   float64       \n",
      " 3   Price Per Unit    8159 non-null   float64       \n",
      " 4   Total Spent       8159 non-null   float64       \n",
      " 5   Payment Method    8159 non-null   string        \n",
      " 6   Location          8159 non-null   string        \n",
      " 7   Transaction Date  8159 non-null   datetime64[ns]\n",
      "dtypes: datetime64[ns](1), float64(3), string(4)\n",
      "memory usage: 573.7 KB\n"
     ]
    },
    {
     "data": {
      "text/plain": [
       "Transaction ID      0\n",
       "Item                0\n",
       "Quantity            0\n",
       "Price Per Unit      0\n",
       "Total Spent         0\n",
       "Payment Method      0\n",
       "Location            0\n",
       "Transaction Date    0\n",
       "dtype: int64"
      ]
     },
     "execution_count": 49,
     "metadata": {},
     "output_type": "execute_result"
    }
   ],
   "source": [
    "df.info()\n",
    "df.isnull().sum()"
   ]
  }
 ],
 "metadata": {
  "kernelspec": {
   "display_name": "Python 3 (ipykernel)",
   "language": "python",
   "name": "python3"
  },
  "language_info": {
   "codemirror_mode": {
    "name": "ipython",
    "version": 3
   },
   "file_extension": ".py",
   "mimetype": "text/x-python",
   "name": "python",
   "nbconvert_exporter": "python",
   "pygments_lexer": "ipython3",
   "version": "3.12.7"
  }
 },
 "nbformat": 4,
 "nbformat_minor": 5
}
